{
 "cells": [
  {
   "cell_type": "code",
   "execution_count": 1,
   "id": "01799137-77b4-4f60-a5dd-4e226bcc01d9",
   "metadata": {},
   "outputs": [],
   "source": [
    "#Importação das Bibliotecas\n",
    "import os \n",
    "import sys \n",
    "import findspark\n",
    "import pandas as pd \n",
    "import matplotlib.pyplot as plt\n",
    "import numpy as np\n",
    "import datetime as dt"
   ]
  },
  {
   "cell_type": "code",
   "execution_count": 2,
   "id": "1c8efa61-f581-409f-a31e-7928494f1ece",
   "metadata": {},
   "outputs": [],
   "source": [
    "findspark.init(r'C:\\Users\\fabio\\Documents\\Infnet\\Engenharia_de_Dados\\InfraestruturaCassandra\\TrabalhoFinal\\csv\\spark')\n",
    "from pyspark import SparkContext, SparkConf\n",
    "from pyspark.sql.functions import *\n",
    "from pyspark.sql import *"
   ]
  },
  {
   "cell_type": "code",
   "execution_count": 3,
   "id": "a59177a2-2233-4b00-b7aa-c9ab82dd6767",
   "metadata": {},
   "outputs": [
    {
     "data": {
      "text/plain": [
       "<pyspark.conf.SparkConf at 0x1b8998fc250>"
      ]
     },
     "execution_count": 3,
     "metadata": {},
     "output_type": "execute_result"
    }
   ],
   "source": [
    "# Configuração de parâmetros SparkConf()\n",
    "os.environ['PYSPARK_SUBMIT_ARGS'] = '--packages com.datastax.spark:spark-cassandra-connector_2.12:3.2.0 pyspark-shell'\n",
    "conf = SparkConf()\n",
    "conf.set(\"spark.cassandra.auth.username\", \"cassandra\")\n",
    "conf.set(\"spark.cassandra.auth.password\", \"cassandra\")\n",
    "conf.set(\"spark.cassandra.connection.host\", \"172.17.0.2\")\n",
    "conf.set(\"spark.cassandra.connection.local_dc\", \"dc1\")"
   ]
  },
  {
   "cell_type": "code",
   "execution_count": 4,
   "id": "cfdf73ea-9ed9-4be6-a858-be97cda044f1",
   "metadata": {
    "tags": []
   },
   "outputs": [
    {
     "name": "stderr",
     "output_type": "stream",
     "text": [
      "C:\\Users\\fabio\\Documents\\Infnet\\Engenharia_de_Dados\\InfraestruturaCassandra\\TrabalhoFinal\\csv\\spark\\python\\pyspark\\sql\\context.py:112: FutureWarning: Deprecated in 3.0.0. Use SparkSession.builder.getOrCreate() instead.\n",
      "  warnings.warn(\n"
     ]
    }
   ],
   "source": [
    "# Criação do contexto\n",
    "sc = SparkContext().getOrCreate(conf)\n",
    "sqlContext = SQLContext(sc)"
   ]
  },
  {
   "cell_type": "code",
   "execution_count": 5,
   "id": "7dd70bec-5cd3-4535-83ff-d8966b0ac732",
   "metadata": {},
   "outputs": [],
   "source": [
    "# Carregando tabela car sales da keyspace trabalho_final da Infraestrutura Cassandra\n",
    "cars = sqlContext.read.format(\"org.apache.spark.sql.cassandra\").load(table=\"car_sales\", keyspace=\"trabalho_final\")"
   ]
  },
  {
   "cell_type": "code",
   "execution_count": 6,
   "id": "37ace836-98b1-46f3-83ea-28a1fef91169",
   "metadata": {},
   "outputs": [
    {
     "name": "stdout",
     "output_type": "stream",
     "text": [
      "+----------+------+\n",
      "|      date| value|\n",
      "+----------+------+\n",
      "|01,12,2006|204801|\n",
      "|01,04,2006|131139|\n",
      "|01,10,1996|163423|\n",
      "|01,01,1994| 93915|\n",
      "|01,06,1990| 37632|\n",
      "+----------+------+\n",
      "only showing top 5 rows\n",
      "\n"
     ]
    }
   ],
   "source": [
    "# Mostrando as cinco primeiras linhas\n",
    "cars.show(5)"
   ]
  },
  {
   "cell_type": "code",
   "execution_count": 7,
   "id": "3993023d-87ec-44bd-ac1d-b36fa9115ec6",
   "metadata": {},
   "outputs": [],
   "source": [
    "# Passando para o pandas\n",
    "df = cars.toPandas()"
   ]
  },
  {
   "cell_type": "code",
   "execution_count": 8,
   "id": "40cd7a6b-0d32-4907-a633-3afde6ebe3cc",
   "metadata": {},
   "outputs": [
    {
     "name": "stdout",
     "output_type": "stream",
     "text": [
      "<class 'pandas.core.frame.DataFrame'>\n",
      "RangeIndex: 392 entries, 0 to 391\n",
      "Data columns (total 2 columns):\n",
      " #   Column  Non-Null Count  Dtype \n",
      "---  ------  --------------  ----- \n",
      " 0   date    392 non-null    object\n",
      " 1   value   392 non-null    object\n",
      "dtypes: object(2)\n",
      "memory usage: 6.2+ KB\n"
     ]
    }
   ],
   "source": [
    "# Verificando tipos das colunas\n",
    "df.info()"
   ]
  },
  {
   "cell_type": "code",
   "execution_count": 9,
   "id": "b87c92a2-c554-4d1a-a057-c6496419f78e",
   "metadata": {},
   "outputs": [
    {
     "data": {
      "text/html": [
       "<div>\n",
       "<style scoped>\n",
       "    .dataframe tbody tr th:only-of-type {\n",
       "        vertical-align: middle;\n",
       "    }\n",
       "\n",
       "    .dataframe tbody tr th {\n",
       "        vertical-align: top;\n",
       "    }\n",
       "\n",
       "    .dataframe thead th {\n",
       "        text-align: right;\n",
       "    }\n",
       "</style>\n",
       "<table border=\"1\" class=\"dataframe\">\n",
       "  <thead>\n",
       "    <tr style=\"text-align: right;\">\n",
       "      <th></th>\n",
       "      <th>date</th>\n",
       "      <th>value</th>\n",
       "    </tr>\n",
       "  </thead>\n",
       "  <tbody>\n",
       "    <tr>\n",
       "      <th>387</th>\n",
       "      <td>01,06,2021</td>\n",
       "      <td>182408</td>\n",
       "    </tr>\n",
       "    <tr>\n",
       "      <th>388</th>\n",
       "      <td>01,07,2009</td>\n",
       "      <td>285370</td>\n",
       "    </tr>\n",
       "    <tr>\n",
       "      <th>389</th>\n",
       "      <td>01,08,1994</td>\n",
       "      <td>159083</td>\n",
       "    </tr>\n",
       "    <tr>\n",
       "      <th>390</th>\n",
       "      <td>01,10,2020</td>\n",
       "      <td>215024</td>\n",
       "    </tr>\n",
       "    <tr>\n",
       "      <th>391</th>\n",
       "      <td>01,11,2006</td>\n",
       "      <td>182709</td>\n",
       "    </tr>\n",
       "  </tbody>\n",
       "</table>\n",
       "</div>"
      ],
      "text/plain": [
       "           date   value\n",
       "387  01,06,2021  182408\n",
       "388  01,07,2009  285370\n",
       "389  01,08,1994  159083\n",
       "390  01,10,2020  215024\n",
       "391  01,11,2006  182709"
      ]
     },
     "execution_count": 9,
     "metadata": {},
     "output_type": "execute_result"
    }
   ],
   "source": [
    "df.tail(5)"
   ]
  },
  {
   "cell_type": "code",
   "execution_count": 10,
   "id": "5520de02-8e50-44b7-ad6c-5a53b3c7f663",
   "metadata": {},
   "outputs": [],
   "source": [
    "# Renomeando coluna 'values' para 'vendas_carros' e 'date' para 'data'\n",
    "df.rename(columns={'value' : 'vendas_carros', 'date' : 'data'}, inplace=True)"
   ]
  },
  {
   "cell_type": "code",
   "execution_count": 11,
   "id": "3b81c119",
   "metadata": {},
   "outputs": [],
   "source": [
    "# Passando campo 'date' para tipo datetime\n",
    "df['data'] = pd.to_datetime(df['data'], format=\"%d,%m,%Y\")"
   ]
  },
  {
   "cell_type": "code",
   "execution_count": 12,
   "id": "453f7b42",
   "metadata": {},
   "outputs": [
    {
     "name": "stdout",
     "output_type": "stream",
     "text": [
      "<class 'pandas.core.frame.DataFrame'>\n",
      "RangeIndex: 392 entries, 0 to 391\n",
      "Data columns (total 2 columns):\n",
      " #   Column         Non-Null Count  Dtype         \n",
      "---  ------         --------------  -----         \n",
      " 0   data           392 non-null    datetime64[ns]\n",
      " 1   vendas_carros  392 non-null    int64         \n",
      "dtypes: datetime64[ns](1), int64(1)\n",
      "memory usage: 6.2 KB\n"
     ]
    }
   ],
   "source": [
    "df['vendas_carros'] = df['vendas_carros'].astype('int64')\n",
    "df.info()"
   ]
  },
  {
   "cell_type": "code",
   "execution_count": 13,
   "id": "d07d8035",
   "metadata": {},
   "outputs": [
    {
     "data": {
      "text/html": [
       "<div>\n",
       "<style scoped>\n",
       "    .dataframe tbody tr th:only-of-type {\n",
       "        vertical-align: middle;\n",
       "    }\n",
       "\n",
       "    .dataframe tbody tr th {\n",
       "        vertical-align: top;\n",
       "    }\n",
       "\n",
       "    .dataframe thead th {\n",
       "        text-align: right;\n",
       "    }\n",
       "</style>\n",
       "<table border=\"1\" class=\"dataframe\">\n",
       "  <thead>\n",
       "    <tr style=\"text-align: right;\">\n",
       "      <th></th>\n",
       "      <th>data</th>\n",
       "      <th>vendas_carros</th>\n",
       "    </tr>\n",
       "  </thead>\n",
       "  <tbody>\n",
       "    <tr>\n",
       "      <th>69</th>\n",
       "      <td>1996-05-01</td>\n",
       "      <td>147166</td>\n",
       "    </tr>\n",
       "  </tbody>\n",
       "</table>\n",
       "</div>"
      ],
      "text/plain": [
       "         data  vendas_carros\n",
       "69 1996-05-01         147166"
      ]
     },
     "execution_count": 13,
     "metadata": {},
     "output_type": "execute_result"
    }
   ],
   "source": [
    "# Qual o número de vendas de carros no mês de maio do ano de 1996 ?\n",
    "df.loc[df['data'] == '1996-05-01']"
   ]
  },
  {
   "cell_type": "code",
   "execution_count": 14,
   "id": "efd425f9",
   "metadata": {},
   "outputs": [
    {
     "data": {
      "text/html": [
       "<div>\n",
       "<style scoped>\n",
       "    .dataframe tbody tr th:only-of-type {\n",
       "        vertical-align: middle;\n",
       "    }\n",
       "\n",
       "    .dataframe tbody tr th {\n",
       "        vertical-align: top;\n",
       "    }\n",
       "\n",
       "    .dataframe thead th {\n",
       "        text-align: right;\n",
       "    }\n",
       "</style>\n",
       "<table border=\"1\" class=\"dataframe\">\n",
       "  <thead>\n",
       "    <tr style=\"text-align: right;\">\n",
       "      <th></th>\n",
       "      <th>data</th>\n",
       "      <th>vendas_carros</th>\n",
       "    </tr>\n",
       "  </thead>\n",
       "  <tbody>\n",
       "    <tr>\n",
       "      <th>236</th>\n",
       "      <td>2005-01-01</td>\n",
       "      <td>106660</td>\n",
       "    </tr>\n",
       "    <tr>\n",
       "      <th>289</th>\n",
       "      <td>2005-03-01</td>\n",
       "      <td>149478</td>\n",
       "    </tr>\n",
       "    <tr>\n",
       "      <th>307</th>\n",
       "      <td>2005-02-01</td>\n",
       "      <td>114816</td>\n",
       "    </tr>\n",
       "  </tbody>\n",
       "</table>\n",
       "</div>"
      ],
      "text/plain": [
       "          data  vendas_carros\n",
       "236 2005-01-01         106660\n",
       "289 2005-03-01         149478\n",
       "307 2005-02-01         114816"
      ]
     },
     "execution_count": 14,
     "metadata": {},
     "output_type": "execute_result"
    }
   ],
   "source": [
    "# Qual o número de vendas no primeiro trimestre do ano 2005 para cada mês ?\n",
    "primeiro_trimestre_2000 =  df[(df['data'] >= '2005-01-01') & (df['data'] <= '2005-03-01')]\n",
    "primeiro_trimestre_2000"
   ]
  },
  {
   "cell_type": "code",
   "execution_count": 15,
   "id": "9ea22d79",
   "metadata": {},
   "outputs": [
    {
     "data": {
      "text/plain": [
       "2058146"
      ]
     },
     "execution_count": 15,
     "metadata": {},
     "output_type": "execute_result"
    }
   ],
   "source": [
    "# Qual o número de vendas de carros para o ano de 2020 ?\n",
    "ano_2020 = df[(df['data'] >= '2020-01-01') & (df['data'] <= '2020-12-01')]\n",
    "ano_2020['vendas_carros'].sum()"
   ]
  },
  {
   "cell_type": "code",
   "execution_count": 16,
   "id": "722804c4",
   "metadata": {},
   "outputs": [
    {
     "data": {
      "text/plain": [
       "2119538"
      ]
     },
     "execution_count": 16,
     "metadata": {},
     "output_type": "execute_result"
    }
   ],
   "source": [
    "# Qual o número de vendas de carros para o ano de 2021 ?\n",
    "ano_2021 = df[(df['data'] >= '2021-01-01') & (df['data'] <= '2021-12-01')]\n",
    "ano_2021['vendas_carros'].sum()"
   ]
  },
  {
   "cell_type": "code",
   "execution_count": 17,
   "id": "d8e9eed2",
   "metadata": {},
   "outputs": [
    {
     "data": {
      "text/plain": [
       "1308416"
      ]
     },
     "execution_count": 17,
     "metadata": {},
     "output_type": "execute_result"
    }
   ],
   "source": [
    "# Qual o número de vendas de carros para o ano de 2022 ?\n",
    "ano_2022 = df[(df['data'] >= '2022-01-01') & (df['data'] <= '2022-12-01')]\n",
    "ano_2022['vendas_carros'].sum()"
   ]
  },
  {
   "cell_type": "code",
   "execution_count": 18,
   "id": "7304d819",
   "metadata": {},
   "outputs": [
    {
     "data": {
      "text/html": [
       "<div>\n",
       "<style scoped>\n",
       "    .dataframe tbody tr th:only-of-type {\n",
       "        vertical-align: middle;\n",
       "    }\n",
       "\n",
       "    .dataframe tbody tr th {\n",
       "        vertical-align: top;\n",
       "    }\n",
       "\n",
       "    .dataframe thead th {\n",
       "        text-align: right;\n",
       "    }\n",
       "</style>\n",
       "<table border=\"1\" class=\"dataframe\">\n",
       "  <thead>\n",
       "    <tr style=\"text-align: right;\">\n",
       "      <th></th>\n",
       "      <th>data</th>\n",
       "      <th>vendas_carros</th>\n",
       "    </tr>\n",
       "  </thead>\n",
       "  <tbody>\n",
       "    <tr>\n",
       "      <th>245</th>\n",
       "      <td>2021-12-01</td>\n",
       "      <td>207062</td>\n",
       "    </tr>\n",
       "    <tr>\n",
       "      <th>311</th>\n",
       "      <td>2021-03-01</td>\n",
       "      <td>189372</td>\n",
       "    </tr>\n",
       "    <tr>\n",
       "      <th>272</th>\n",
       "      <td>2021-05-01</td>\n",
       "      <td>188612</td>\n",
       "    </tr>\n",
       "    <tr>\n",
       "      <th>387</th>\n",
       "      <td>2021-06-01</td>\n",
       "      <td>182408</td>\n",
       "    </tr>\n",
       "    <tr>\n",
       "      <th>118</th>\n",
       "      <td>2021-07-01</td>\n",
       "      <td>175426</td>\n",
       "    </tr>\n",
       "  </tbody>\n",
       "</table>\n",
       "</div>"
      ],
      "text/plain": [
       "          data  vendas_carros\n",
       "245 2021-12-01         207062\n",
       "311 2021-03-01         189372\n",
       "272 2021-05-01         188612\n",
       "387 2021-06-01         182408\n",
       "118 2021-07-01         175426"
      ]
     },
     "execution_count": 18,
     "metadata": {},
     "output_type": "execute_result"
    }
   ],
   "source": [
    "# Quais os cinco meses com maior número de vendas para o ano de 2021 ?\n",
    "ano_2021.sort_values(by='vendas_carros', ascending=False).head(5)"
   ]
  },
  {
   "cell_type": "code",
   "execution_count": 19,
   "id": "2579ad04",
   "metadata": {},
   "outputs": [
    {
     "data": {
      "text/html": [
       "<div>\n",
       "<style scoped>\n",
       "    .dataframe tbody tr th:only-of-type {\n",
       "        vertical-align: middle;\n",
       "    }\n",
       "\n",
       "    .dataframe tbody tr th {\n",
       "        vertical-align: top;\n",
       "    }\n",
       "\n",
       "    .dataframe thead th {\n",
       "        text-align: right;\n",
       "    }\n",
       "</style>\n",
       "<table border=\"1\" class=\"dataframe\">\n",
       "  <thead>\n",
       "    <tr style=\"text-align: right;\">\n",
       "      <th></th>\n",
       "      <th>data</th>\n",
       "      <th>vendas_carros</th>\n",
       "    </tr>\n",
       "  </thead>\n",
       "  <tbody>\n",
       "    <tr>\n",
       "      <th>230</th>\n",
       "      <td>2021-09-01</td>\n",
       "      <td>155067</td>\n",
       "    </tr>\n",
       "    <tr>\n",
       "      <th>95</th>\n",
       "      <td>2021-10-01</td>\n",
       "      <td>162353</td>\n",
       "    </tr>\n",
       "    <tr>\n",
       "      <th>194</th>\n",
       "      <td>2021-02-01</td>\n",
       "      <td>167341</td>\n",
       "    </tr>\n",
       "  </tbody>\n",
       "</table>\n",
       "</div>"
      ],
      "text/plain": [
       "          data  vendas_carros\n",
       "230 2021-09-01         155067\n",
       "95  2021-10-01         162353\n",
       "194 2021-02-01         167341"
      ]
     },
     "execution_count": 19,
     "metadata": {},
     "output_type": "execute_result"
    }
   ],
   "source": [
    "# Quais os três piores meses de vendas para o ano de 2021 ?\n",
    "ano_2021.nsmallest(3, 'vendas_carros')[['data','vendas_carros']]"
   ]
  },
  {
   "cell_type": "code",
   "execution_count": 20,
   "id": "597f915b",
   "metadata": {},
   "outputs": [
    {
     "name": "stdout",
     "output_type": "stream",
     "text": [
      "<class 'pandas.core.frame.DataFrame'>\n",
      "RangeIndex: 392 entries, 0 to 391\n",
      "Data columns (total 3 columns):\n",
      " #   Column         Non-Null Count  Dtype         \n",
      "---  ------         --------------  -----         \n",
      " 0   data           392 non-null    datetime64[ns]\n",
      " 1   vendas_carros  392 non-null    int64         \n",
      " 2   ano            392 non-null    int64         \n",
      "dtypes: datetime64[ns](1), int64(2)\n",
      "memory usage: 9.3 KB\n"
     ]
    }
   ],
   "source": [
    "# Extraindo ano de date\n",
    "df['ano'] = df['data'].dt.year\n",
    "df.info()"
   ]
  },
  {
   "cell_type": "code",
   "execution_count": 21,
   "id": "3e2d3b2c",
   "metadata": {},
   "outputs": [
    {
     "data": {
      "text/plain": [
       "ano\n",
       "1990     712708\n",
       "1991     791508\n",
       "1992     771477\n",
       "1993    1098191\n",
       "1994    1426651\n",
       "1995    1684846\n",
       "1996    1728558\n",
       "1997    1931016\n",
       "1998    1546618\n",
       "1999    1176881\n",
       "2000    1411752\n",
       "2001    1586928\n",
       "2002    1466487\n",
       "2003    1431381\n",
       "2004    1578836\n",
       "2005    1714724\n",
       "2006    1925898\n",
       "2007    2462605\n",
       "2008    2820963\n",
       "2009    3141009\n",
       "2010    3515039\n",
       "2011    3632974\n",
       "2012    3801703\n",
       "2013    3767165\n",
       "2014    3497818\n",
       "2015    2568980\n",
       "2016    2050362\n",
       "2017    2239405\n",
       "2018    2566009\n",
       "2019    2787618\n",
       "2020    2058146\n",
       "2021    2119538\n",
       "2022    1308416\n",
       "Name: vendas_carros, dtype: int64"
      ]
     },
     "execution_count": 21,
     "metadata": {},
     "output_type": "execute_result"
    }
   ],
   "source": [
    "# Total de vendas de carros por ano\n",
    "anos = df.groupby('ano')['vendas_carros'].sum()\n",
    "anos"
   ]
  },
  {
   "cell_type": "code",
   "execution_count": 22,
   "id": "ab778ce0",
   "metadata": {},
   "outputs": [],
   "source": [
    "# Exportando para arquivo .csv o total de vendas de carros por ano\n",
    "anos.to_csv('vendas_carros_ano.csv', sep=';')"
   ]
  },
  {
   "cell_type": "code",
   "execution_count": 23,
   "id": "5e7f5a75",
   "metadata": {},
   "outputs": [
    {
     "data": {
      "text/plain": [
       "Text(0, 0.5, 'Quantidade')"
      ]
     },
     "execution_count": 23,
     "metadata": {},
     "output_type": "execute_result"
    },
    {
     "data": {
      "image/png": "[encoded data removed]",
      "text/plain": [
       "<Figure size 864x432 with 1 Axes>"
      ]
     },
     "metadata": {
      "needs_background": "light"
     },
     "output_type": "display_data"
    }
   ],
   "source": [
    "# Plotando gráfico de barras de vendas carros agrupadas por ano\n",
    "plt.rcParams['figure.figsize']=(12,6)\n",
    "plt.bar(anos.index, anos, color='green', alpha=0.3)\n",
    "plt.title('Vendas de carros por ano ')\n",
    "plt.xlabel('Anos')\n",
    "plt.ylabel('Quantidade')"
   ]
  },
  {
   "cell_type": "code",
   "execution_count": 24,
   "id": "b1a80f1e",
   "metadata": {},
   "outputs": [
    {
     "name": "stderr",
     "output_type": "stream",
     "text": [
      "C:\\Users\\fabio\\anaconda3\\lib\\site-packages\\pandas\\util\\_decorators.py:311: SettingWithCopyWarning: \n",
      "A value is trying to be set on a copy of a slice from a DataFrame\n",
      "\n",
      "See the caveats in the documentation: https://pandas.pydata.org/pandas-docs/stable/user_guide/indexing.html#returning-a-view-versus-a-copy\n",
      "  return func(*args, **kwargs)\n"
     ]
    }
   ],
   "source": [
    "# Ordenando date por ordem cronológica de mês\n",
    "ano_2020.sort_values(by='data', ascending=True, inplace=True)\n",
    "ano_2021.sort_values(by='data', ascending=True, inplace=True)\n",
    "ano_2022.sort_values(by='data', ascending=True, inplace=True)"
   ]
  },
  {
   "cell_type": "code",
   "execution_count": 25,
   "id": "4b4b0112",
   "metadata": {},
   "outputs": [
    {
     "name": "stderr",
     "output_type": "stream",
     "text": [
      "C:\\Users\\fabio\\AppData\\Local\\Temp/ipykernel_42588/2024658481.py:2: SettingWithCopyWarning: \n",
      "A value is trying to be set on a copy of a slice from a DataFrame.\n",
      "Try using .loc[row_indexer,col_indexer] = value instead\n",
      "\n",
      "See the caveats in the documentation: https://pandas.pydata.org/pandas-docs/stable/user_guide/indexing.html#returning-a-view-versus-a-copy\n",
      "  ano_2020['mes'] = ano_2020['data'].dt.month\n",
      "C:\\Users\\fabio\\anaconda3\\lib\\site-packages\\pandas\\core\\frame.py:4906: SettingWithCopyWarning: \n",
      "A value is trying to be set on a copy of a slice from a DataFrame\n",
      "\n",
      "See the caveats in the documentation: https://pandas.pydata.org/pandas-docs/stable/user_guide/indexing.html#returning-a-view-versus-a-copy\n",
      "  return super().drop(\n"
     ]
    }
   ],
   "source": [
    "# Trabalhando coluna de mês no ano 2020\n",
    "ano_2020['mes'] = ano_2020['data'].dt.month\n",
    "ano_2020.drop(columns=['data'], inplace=True)\n",
    "ordem = ['mes', 'vendas_carros']\n",
    "ano_2020 = ano_2020[ordem]"
   ]
  },
  {
   "cell_type": "code",
   "execution_count": 26,
   "id": "fe4d7b14",
   "metadata": {},
   "outputs": [
    {
     "name": "stderr",
     "output_type": "stream",
     "text": [
      "C:\\Users\\fabio\\AppData\\Local\\Temp/ipykernel_42588/174665184.py:2: SettingWithCopyWarning: \n",
      "A value is trying to be set on a copy of a slice from a DataFrame.\n",
      "Try using .loc[row_indexer,col_indexer] = value instead\n",
      "\n",
      "See the caveats in the documentation: https://pandas.pydata.org/pandas-docs/stable/user_guide/indexing.html#returning-a-view-versus-a-copy\n",
      "  ano_2021['mes'] = ano_2021['data'].dt.month\n"
     ]
    }
   ],
   "source": [
    "# Trabalhando coluna de mês no ano 2021\n",
    "ano_2021['mes'] = ano_2021['data'].dt.month\n",
    "ano_2021.drop(columns=['data'], inplace=True)\n",
    "ordem = ['mes', 'vendas_carros']\n",
    "ano_2021 = ano_2021[ordem]"
   ]
  },
  {
   "cell_type": "code",
   "execution_count": 27,
   "id": "939fcf33",
   "metadata": {},
   "outputs": [
    {
     "name": "stderr",
     "output_type": "stream",
     "text": [
      "C:\\Users\\fabio\\AppData\\Local\\Temp/ipykernel_42588/1204311685.py:2: SettingWithCopyWarning: \n",
      "A value is trying to be set on a copy of a slice from a DataFrame.\n",
      "Try using .loc[row_indexer,col_indexer] = value instead\n",
      "\n",
      "See the caveats in the documentation: https://pandas.pydata.org/pandas-docs/stable/user_guide/indexing.html#returning-a-view-versus-a-copy\n",
      "  ano_2022['mes'] = ano_2022['data'].dt.month\n"
     ]
    }
   ],
   "source": [
    "# Trabalhando coluna de mês no ano 2022\n",
    "ano_2022['mes'] = ano_2022['data'].dt.month\n",
    "ano_2022.drop(columns=['data'], inplace=True)\n",
    "ordem = ['mes', 'vendas_carros']\n",
    "ano_2022 = ano_2022[ordem]"
   ]
  },
  {
   "cell_type": "code",
   "execution_count": 28,
   "id": "a1aa9b3c",
   "metadata": {},
   "outputs": [],
   "source": [
    "# Gráfico comparativo entre ano 2020 e 2022\n",
    "\n",
    "# Passando colunas de meses para formato lista\n",
    "mes_2020 = ano_2020['vendas_carros'].tolist()\n",
    "mes_2021 = ano_2021['vendas_carros'].tolist()\n",
    "mes_2022 = ano_2022['vendas_carros'].tolist()\n",
    "mes_2022.extend([0, 0, 0, 0])\n",
    "\n",
    "# Largura das barras\n",
    "barWidth = 0.25\n",
    "\n",
    "# posição das barras\n",
    "r1 = np.arange(len(ano_2020))\n",
    "r2 = [x + barWidth for x in r1]\n",
    "r3 = [x + barWidth for x in r2]"
   ]
  },
  {
   "cell_type": "code",
   "execution_count": 29,
   "id": "e1a55645",
   "metadata": {
    "scrolled": false
   },
   "outputs": [
    {
     "data": {
      "image/png": "[encoded data removed]",
      "text/plain": [
       "<Figure size 864x432 with 1 Axes>"
      ]
     },
     "metadata": {
      "needs_background": "light"
     },
     "output_type": "display_data"
    }
   ],
   "source": [
    "# Criando as barras\n",
    "plt.bar(r1, mes_2020, color= '#6A5ACD', width=barWidth, label='2020')\n",
    "plt.bar(r2, mes_2021, color= '#6495ED', width=barWidth, label='2021')\n",
    "plt.bar(r3, mes_2022, color= '#00BFFF', width=barWidth, label='2022')\n",
    "\n",
    "# Adicionando legendas\n",
    "plt.xlabel('Meses')\n",
    "plt.xticks([r + barWidth for r in range(len(ano_2021))], ['Janeiro', 'Fevereiro', 'Março', 'Abril', 'Maio', 'Junho', 'Julho', \n",
    "                                                         'Agosto', 'Setembro', 'Outubro', 'Novembro', 'Dezembro'])\n",
    "plt.ylabel('Qtde Vendas')\n",
    "plt.title('Gráfico comparativo de vendas mensais - 2020/21/22')\n",
    "\n",
    "# Plotando legenda e gráfico\n",
    "plt.legend()\n",
    "plt.show()"
   ]
  },
  {
   "cell_type": "code",
   "execution_count": 30,
   "id": "e0beab67",
   "metadata": {},
   "outputs": [],
   "source": [
    "# Extraindo valores de vendas dos anos de 2020 à 2022.\n",
    "anos_values = anos.tolist()\n",
    "ano_2022 = anos_values.pop()\n",
    "ano_2021 = anos_values.pop()\n",
    "ano_2020 =anos_values.pop()"
   ]
  },
  {
   "cell_type": "code",
   "execution_count": 31,
   "id": "60ecc15f-7a01-4861-84a7-72cb56d91ed4",
   "metadata": {},
   "outputs": [
    {
     "data": {
      "image/png": "[encoded data removed]",
      "text/plain": [
       "<Figure size 720x360 with 1 Axes>"
      ]
     },
     "metadata": {},
     "output_type": "display_data"
    }
   ],
   "source": [
    "# Montando gráfico de pizza\n",
    "plt.rcParams['figure.figsize']=(10,5)\n",
    "data = [ano_2020, ano_2021, ano_2022]\n",
    "rotulos = ['2020', '2021', '2022']\n",
    "explosao = [0, 0, 0.1]\n",
    "\n",
    "plt.pie(data, labels = rotulos, explode = explosao)\n",
    "plt.show()"
   ]
  },
  {
   "cell_type": "code",
   "execution_count": 32,
   "id": "530f0a5e-fe1d-409a-a486-812e2e0c26cb",
   "metadata": {},
   "outputs": [
    {
     "data": {
      "image/png": "[encoded data removed]",
      "text/plain": [
       "<Figure size 720x360 with 1 Axes>"
      ]
     },
     "metadata": {},
     "output_type": "display_data"
    }
   ],
   "source": [
    "# Outro gráfico de pizza\n",
    "fig = plt.figure()\n",
    "ax = fig.add_axes([0,0,1,1])\n",
    "ax.axis('equal')\n",
    "ax.pie(data, labels = rotulos, autopct='%1.2f%%')\n",
    "plt.show()"
   ]
  },
  {
   "cell_type": "code",
   "execution_count": null,
   "id": "b639a687",
   "metadata": {},
   "outputs": [],
   "source": []
  }
 ],
 "metadata": {
  "kernelspec": {
   "display_name": "Python 3 (ipykernel)",
   "language": "python",
   "name": "python3"
  },
  "language_info": {
   "codemirror_mode": {
    "name": "ipython",
    "version": 3
   },
   "file_extension": ".py",
   "mimetype": "text/x-python",
   "name": "python",
   "nbconvert_exporter": "python",
   "pygments_lexer": "ipython3",
   "version": "3.9.7"
  }
 },
 "nbformat": 4,
 "nbformat_minor": 5
}
